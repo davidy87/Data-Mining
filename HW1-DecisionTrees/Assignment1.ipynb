{
 "cells": [
  {
   "cell_type": "markdown",
   "metadata": {},
   "source": [
    "#### This assignment may be worked individually or in pairs. Enter your name/names here:\n",
    "    "
   ]
  },
  {
   "cell_type": "code",
   "execution_count": 44,
   "metadata": {},
   "outputs": [],
   "source": [
    "#names here"
   ]
  },
  {
   "cell_type": "markdown",
   "metadata": {
    "collapsed": true
   },
   "source": [
    "# Assignment 1: Decision Trees\n",
    "\n",
    "In this assignment we'll implement the Decision Tree algorithm to classify patients as either having or not having diabetic retinopathy. For this task we'll be using the Diabetic Retinopathy data set, which contains features from the Messidor image set to predict whether an image contains signs of diabetic retinopathy or not. This dataset has `1151` instances and `20` attributes (some categorical, some continuous). You can find additional details about the dataset [here](http://archive.ics.uci.edu/ml/datasets/Diabetic+Retinopathy+Debrecen+Data+Set)."
   ]
  },
  {
   "cell_type": "markdown",
   "metadata": {},
   "source": [
    "Attribute Information:\n",
    "\n",
    "0) The binary result of quality assessment. 0 = bad quality 1 = sufficient quality.\n",
    "\n",
    "1) The binary result of pre-screening, where 1 indicates severe retinal abnormality and 0 its lack. \n",
    "\n",
    "2-7) The results of MA detection. Each feature value stand for the number of MAs found at the confidence levels alpha = 0.5, . . . , 1, respectively. \n",
    "\n",
    "8-15) contain the same information as 2-7) for exudates. However, as exudates are represented by a set of points rather than the number of pixels constructing the lesions, these features are normalized by dividing the \n",
    "number of lesions with the diameter of the ROI to compensate different image sizes. \n",
    "\n",
    "16) The euclidean distance of the center of the macula and the center of the optic disc to provide important information regarding the patient's condition. This feature is also normalized with the diameter of the ROI.\n",
    "\n",
    "17) The diameter of the optic disc. \n",
    "\n",
    "18) The binary result of the AM/FM-based classification.\n",
    "\n",
    "19) Class label. 1 = contains signs of Diabetic Retinopathy (Accumulative label for the Messidor classes 1, 2, 3), 0 = no signs of Diabetic Retinopathy."
   ]
  },
  {
   "cell_type": "markdown",
   "metadata": {},
   "source": [
    "#### Implementation: \n",
    "A few function prototypes are already given to you, please don't change those. You can add additional helper functions for your convenience. \n",
    "\n",
    "*Suggestion:* The dataset is substantially big, for the purpose of easy debugging, work with a subset of the data and test your decision tree implementation on that.\n",
    "\n",
    "#### Notes:\n",
    "Parts of this assignment will be **autograded** so a couple of caveats :-\n",
    "- Entropy is calculated using log with base 2, `math.log2(x)`.\n",
    "- For continuous features ensure that the threshold value lies exactly between 2 buckets. For example, if for feature 2 the best split occurs between 10 and 15 then the threshold value will be set as 12.5.\n",
    "- For binary features [0/1] the threshold value will be 0.5. All values < `thresh_val` go to the left child and all values >= `thresh_val` go to the right child."
   ]
  },
  {
   "cell_type": "code",
   "execution_count": 45,
   "metadata": {},
   "outputs": [],
   "source": [
    "# Standard Headers\n",
    "# You are welcome to add additional headers if you wish\n",
    "# EXCEPT for scikit-learn... You may NOT use scikit-learn for this assignment!\n",
    "import pandas as pd\n",
    "import numpy as np\n",
    "import matplotlib.pyplot as plt\n",
    "from math import log2\n",
    "from random import shuffle"
   ]
  },
  {
   "cell_type": "code",
   "execution_count": 46,
   "metadata": {},
   "outputs": [],
   "source": [
    "class DataPoint:\n",
    "    def __str__(self):\n",
    "        return \"< \" + str(self.label) + \": \" + str(self.features) + \" >\"\n",
    "    def __init__(self, label, features):\n",
    "        self.label = label # the classification label of this data point\n",
    "        self.features = features"
   ]
  },
  {
   "cell_type": "markdown",
   "metadata": {},
   "source": [
    "Q1. Read data from a CSV file. Put it into a list of `DataPoints`."
   ]
  },
  {
   "cell_type": "code",
   "execution_count": 47,
   "metadata": {},
   "outputs": [],
   "source": [
    "def get_data(filename):\n",
    "    data = []\n",
    "    file = pd.read_csv(filename, header=None).to_numpy()\n",
    "\n",
    "    for dp in file:\n",
    "        label = dp[19]\n",
    "        features = dp[:19]\n",
    "        data.append(DataPoint(label, features))\n",
    "    \n",
    "    return data"
   ]
  },
  {
   "cell_type": "code",
   "execution_count": 48,
   "metadata": {},
   "outputs": [],
   "source": [
    "class TreeNode:\n",
    "    is_leaf = True          # boolean variable to check if the node is a leaf\n",
    "    feature_idx = None      # index that identifies the feature\n",
    "    thresh_val = None       # threshold value that splits the node\n",
    "    prediction = None       # prediction class (only valid for leaf nodes)\n",
    "    left_child = None       # left TreeNode (all values < thresh_val)\n",
    "    right_child = None      # right TreeNode (all values >= thresh_val)\n",
    "    \n",
    "    def printTree(self):    # for debugging purposes\n",
    "        if self.is_leaf:\n",
    "            print ('Leaf Node:      predicts ' + str(self.prediction))\n",
    "        else:\n",
    "            print ('Internal Node:  splits on feature ' \n",
    "                   + str(self.feature_idx) + ' with threshold ' + str(self.thresh_val))\n",
    "            self.left_child.printTree()\n",
    "            self.right_child.printTree()"
   ]
  },
  {
   "cell_type": "markdown",
   "metadata": {},
   "source": [
    "Q2. Implement the function `make_prediction` that takes the decision tree root and a `DataPoint` instance and returns the prediction label."
   ]
  },
  {
   "cell_type": "code",
   "execution_count": 49,
   "metadata": {},
   "outputs": [],
   "source": [
    "def make_prediction(tree_root, data_point):\n",
    "#     your code goes here\n",
    "    while not tree_root.is_leaf:\n",
    "        if data_point.features[tree_root.feature_idx] < tree_root.thresh_val:\n",
    "            tree_root = tree_root.left_child\n",
    "        else:\n",
    "            tree_root = tree_root.right_child\n",
    "\n",
    "    return tree_root.prediction"
   ]
  },
  {
   "cell_type": "markdown",
   "metadata": {},
   "source": [
    "Q3. Implement the function `split_dataset` given an input data set, a `feature_idx` and the `threshold` for the feature. `left_split` will have all values < `threshold` and `right_split` will have all values >= `threshold`."
   ]
  },
  {
   "cell_type": "code",
   "execution_count": 50,
   "metadata": {},
   "outputs": [],
   "source": [
    "def split_dataset(data, feature_idx, threshold):\n",
    "    left_split = []\n",
    "    right_split = []\n",
    "#     your code goes here\n",
    "    for dp in data:\n",
    "        if dp.features[feature_idx] < threshold:\n",
    "            left_split.append(dp)\n",
    "        else:\n",
    "            right_split.append(dp)\n",
    "\n",
    "    return (left_split, right_split)"
   ]
  },
  {
   "cell_type": "markdown",
   "metadata": {},
   "source": [
    "Q4. Implement the function `calc_entropy` to return the entropy of the input dataset."
   ]
  },
  {
   "cell_type": "code",
   "execution_count": 51,
   "metadata": {},
   "outputs": [],
   "source": [
    "from scipy.stats import entropy\n",
    "\n",
    "def calc_entropy(data):\n",
    "#     entropy = 0.0\n",
    "    label_count = {}\n",
    "\n",
    "    for dp in data:\n",
    "        if dp.label in label_count:\n",
    "            label_count[dp.label] += 1\n",
    "        else:\n",
    "            label_count[dp.label] = 1\n",
    "            \n",
    "    p_list = []\n",
    "    total = sum(label_count.values())\n",
    "    \n",
    "    for label in label_count:\n",
    "        p_list.append(label_count[label] / total)\n",
    "    \n",
    "    return entropy(p_list, base=2)\n",
    "\n",
    "# def calc_entropy(data):\n",
    "#     entropy = 0.0\n",
    "# #     your code goes here\n",
    "#     num_label_0 = 0\n",
    "#     num_label_1 = 0\n",
    "    \n",
    "#     if len(data) == 0:\n",
    "#         return entropy\n",
    "    \n",
    "#     for data_point in data:\n",
    "#         if data_point.label == 0:\n",
    "#             num_label_0 += 1\n",
    "#         else:\n",
    "#             num_label_1 += 1\n",
    "\n",
    "#     prob_0 = num_label_0 / len(data)\n",
    "#     prob_1 = num_label_1 / len(data)\n",
    "    \n",
    "#     # Check if either prob_0 or prob_1 is 0\n",
    "#     if prob_0 > 0 and prob_1 == 0:\n",
    "#         entropy = - prob_0 * log2(prob_0)\n",
    "#     elif prob_0 == 0 and prob_1 > 0:\n",
    "#         entropy = - prob_1 * log2(prob_1)\n",
    "#     else:\n",
    "#         entropy = - prob_0 * log2(prob_0) - prob_1 * log2(prob_1)\n",
    "        \n",
    "#     return entropy"
   ]
  },
  {
   "cell_type": "markdown",
   "metadata": {},
   "source": [
    "Q5. Implement the function `calc_best_threshold` which returns the best information gain and the corresponding threshold value for one feature at `feature_idx`."
   ]
  },
  {
   "cell_type": "code",
   "execution_count": 52,
   "metadata": {},
   "outputs": [],
   "source": [
    "def calc_best_threshold(data, feature_idx):\n",
    "    best_info_gain = 0.0\n",
    "    best_thresh = None\n",
    "#     your code goes here\n",
    "    sorted_data = sorted(data, key=lambda dp: dp.features[feature_idx])\n",
    "    entropy = calc_entropy(sorted_data)\n",
    "    lowest = float('inf')\n",
    "    \n",
    "    for i in range(len(sorted_data) - 1):\n",
    "        feature_check = sorted_data[i].features[feature_idx] != sorted_data[i + 1].features[feature_idx]\n",
    "        label_check = sorted_data[i].label != sorted_data[i + 1].label\n",
    "        threshold = (sorted_data[i].features[feature_idx] + sorted_data[i + 1].features[feature_idx]) / 2\n",
    "        \n",
    "        if feature_check and label_check:\n",
    "            left = sorted_data[:i + 1]\n",
    "            right = sorted_data[i + 1:]\n",
    "            entropy_left = (len(left) / len(sorted_data)) * calc_entropy(left)\n",
    "            entropy_right = (len(right) / len(sorted_data)) * calc_entropy(right)\n",
    "            entropy_split = entropy_left + entropy_right\n",
    "            \n",
    "            if entropy_split < lowest:\n",
    "                lowest = entropy_split\n",
    "                best_thresh = threshold\n",
    "                \n",
    "    best_info_gain = entropy - lowest\n",
    "    \n",
    "    return (best_info_gain, best_thresh)"
   ]
  },
  {
   "cell_type": "markdown",
   "metadata": {},
   "source": [
    "Q6. Implement the function `identify_best_split` which returns the best feature to split on for an input dataset, and also returns the corresponding threshold value."
   ]
  },
  {
   "cell_type": "code",
   "execution_count": 53,
   "metadata": {},
   "outputs": [],
   "source": [
    "def identify_best_split(data):\n",
    "    if len(data) < 2:\n",
    "        return (None, None)\n",
    "    best_feature = None\n",
    "    best_thresh = None\n",
    "#     your code goes here\n",
    "    best_info_gain = 0\n",
    "    \n",
    "    for i in range(len(data[0].features)):\n",
    "        cur_info_gain, cur_thresh = calc_best_threshold(data, i)\n",
    "        \n",
    "        if cur_info_gain > best_info_gain:\n",
    "            best_info_gain = cur_info_gain\n",
    "            best_feature = i\n",
    "            best_thresh = cur_thresh\n",
    "    \n",
    "    return (best_feature, best_thresh)"
   ]
  },
  {
   "cell_type": "markdown",
   "metadata": {},
   "source": [
    "Q7. Implement the function `create_leaf_node` which returns a `TreeNode` with `is_leaf=True` and `prediction` set to whichever classification occurs most in the dataset at this node."
   ]
  },
  {
   "cell_type": "code",
   "execution_count": 54,
   "metadata": {},
   "outputs": [],
   "source": [
    "def create_leaf_node(data):\n",
    "#     your code goes here\n",
    "    node = TreeNode()\n",
    "    node.is_leaf = True\n",
    "    node.prediction = 0\n",
    "    num_0 = 0\n",
    "    num_1 = 0\n",
    "    \n",
    "    for dp in data:\n",
    "        if dp.label == 0:\n",
    "            num_0 += 1\n",
    "        else:\n",
    "            num_1 += 1\n",
    "            \n",
    "    if num_1 > num_0:\n",
    "        node.prediction = 1\n",
    "        \n",
    "    return node"
   ]
  },
  {
   "cell_type": "markdown",
   "metadata": {},
   "source": [
    "Q8. Implement the `create_decision_tree` function. `max_levels` denotes the maximum height of the tree (for example if `max_levels = 1` then the decision tree will only contain the leaf node at the root. [Hint: this is where the recursion happens.]"
   ]
  },
  {
   "cell_type": "code",
   "execution_count": 55,
   "metadata": {},
   "outputs": [],
   "source": [
    "def create_decision_tree(data, max_levels):\n",
    "#     your code goes here\n",
    "    if max_levels == 1:\n",
    "        return create_leaf_node(data)\n",
    "    else:\n",
    "        best_feature, best_thresh = identify_best_split(data)\n",
    "        \n",
    "        if best_feature == None and best_thresh == None:\n",
    "            return create_leaf_node(data)\n",
    "        \n",
    "        left_split, right_split = split_dataset(data, best_feature, best_thresh)\n",
    "        \n",
    "        node = TreeNode()\n",
    "        node.is_leaf = False\n",
    "        node.feature_idx = best_feature\n",
    "        node.thresh_val = best_thresh\n",
    "        node.left_child = create_decision_tree(left_split, max_levels - 1)\n",
    "        node.right_child = create_decision_tree(right_split, max_levels - 1)\n",
    "        \n",
    "        return node"
   ]
  },
  {
   "cell_type": "markdown",
   "metadata": {},
   "source": [
    "Q9. Given a test set, the function `calc_accuracy` returns the accuracy of the classifier. You'll use the `make_prediction` function for this."
   ]
  },
  {
   "cell_type": "code",
   "execution_count": 56,
   "metadata": {},
   "outputs": [],
   "source": [
    "def calc_accuracy(tree_root, data):\n",
    "#     your code goes here\n",
    "    correct = 0\n",
    "    \n",
    "    for dp in data:\n",
    "        pred = make_prediction(tree_root, dp)\n",
    "        actual = dp.label\n",
    "        \n",
    "        if pred == actual:\n",
    "            correct += 1\n",
    "            \n",
    "    return correct / len(data)"
   ]
  },
  {
   "cell_type": "markdown",
   "metadata": {},
   "source": [
    "Q10. Keeping the `max_levels` parameter as 10, use 5-fold cross validation to measure the accuracy of the model. Print the accuracy of the model."
   ]
  },
  {
   "cell_type": "code",
   "execution_count": 57,
   "metadata": {
    "scrolled": true
   },
   "outputs": [
    {
     "name": "stdout",
     "output_type": "stream",
     "text": [
      "Training set size: 921\n",
      "Test set size    : 230\n",
      "Time taken: 4.214568138122559\n",
      "The accuracy on the test set is  63.47826086956522\n",
      "Training set size: 921\n",
      "Test set size    : 230\n",
      "Time taken: 3.8990609645843506\n",
      "The accuracy on the test set is  64.34782608695652\n",
      "Training set size: 921\n",
      "Test set size    : 230\n",
      "Time taken: 4.160631895065308\n",
      "The accuracy on the test set is  68.69565217391305\n",
      "Training set size: 921\n",
      "Test set size    : 230\n",
      "Time taken: 3.932494878768921\n",
      "The accuracy on the test set is  64.34782608695652\n",
      "Training set size: 920\n",
      "Test set size    : 231\n",
      "Time taken: 3.7363760471343994\n",
      "The accuracy on the test set is  64.93506493506493\n",
      "\n",
      "Total Accuracy: 65.16092603049125\n"
     ]
    }
   ],
   "source": [
    "# edit the code here - this is just a sample to get you started\n",
    "import time\n",
    "\n",
    "d = get_data(\"messidor_features.txt\")\n",
    "max_levels = 10\n",
    "k = 5\n",
    "total_accuracy = 0.0\n",
    "\n",
    "for i in range(k):\n",
    "    # partition data into train_set and test_set\n",
    "    test_start = int((i / k) * len(d))\n",
    "    test_end = int(((i + 1) / k) * len(d))\n",
    "    train_set = d[:test_start] + d[test_end:]\n",
    "    test_set = d[test_start:test_end]\n",
    "\n",
    "    print ('Training set size:', len(train_set))\n",
    "    print ('Test set size    :', len(test_set))\n",
    "\n",
    "    # create the decision tree\n",
    "    start = time.time()\n",
    "    tree = create_decision_tree(train_set, 10)\n",
    "    end = time.time()\n",
    "    print ('Time taken:', end - start)\n",
    "\n",
    "    # calculate the accuracy of the tree\n",
    "    accuracy = calc_accuracy(tree, test_set)\n",
    "    total_accuracy += accuracy\n",
    "    print ('The accuracy on the test set is ', str(accuracy * 100.0))\n",
    "    \n",
    "print(\"\\nTotal Accuracy:\", total_accuracy / k * 100)\n",
    "# t.printTree()"
   ]
  },
  {
   "cell_type": "code",
   "execution_count": null,
   "metadata": {},
   "outputs": [],
   "source": []
  }
 ],
 "metadata": {
  "kernelspec": {
   "display_name": "Python 3",
   "language": "python",
   "name": "python3"
  },
  "language_info": {
   "codemirror_mode": {
    "name": "ipython",
    "version": 3
   },
   "file_extension": ".py",
   "mimetype": "text/x-python",
   "name": "python",
   "nbconvert_exporter": "python",
   "pygments_lexer": "ipython3",
   "version": "3.7.6"
  }
 },
 "nbformat": 4,
 "nbformat_minor": 2
}
