{
 "cells": [
  {
   "cell_type": "markdown",
   "metadata": {},
   "source": [
    "## This assignment may be worked individually or in pairs. \n",
    "## Enter your name/names here:\n",
    "    "
   ]
  },
  {
   "cell_type": "code",
   "execution_count": 4,
   "metadata": {},
   "outputs": [],
   "source": [
    "#names here"
   ]
  },
  {
   "cell_type": "markdown",
   "metadata": {
    "collapsed": true
   },
   "source": [
    "# Assignment 2: Naive Bayes and KNN classifier\n",
    "\n",
    "In this assignment you'll implement the Naive Bayes and KNN classifiers to classify patients as either having or not having diabetic retinopathy. For this task we'll be using the same Diabetic Retinopathy data set which was used in the previous assignment on decision trees. The implementation details are up to you but, generally it is a good idea to divide your code up into helper functions."
   ]
  },
  {
   "cell_type": "code",
   "execution_count": 5,
   "metadata": {},
   "outputs": [],
   "source": [
    "# Standard Headers\n",
    "# You are welcome to add additional headers if you wish\n",
    "# EXCEPT for scikit-learn... You may NOT use scikit-learn for this assignment!\n",
    "import pandas as pd\n",
    "import numpy as np\n",
    "import matplotlib.pyplot as plt\n",
    "from math import log\n",
    "from random import shuffle"
   ]
  },
  {
   "cell_type": "markdown",
   "metadata": {},
   "source": [
    "Read the data from a CSV file. You may choose to store it any any format you wish, like a Pandas dataframe, or any other data structure you'd like."
   ]
  },
  {
   "cell_type": "code",
   "execution_count": 14,
   "metadata": {},
   "outputs": [],
   "source": [
    "class DataPoint:\n",
    "    def __str__(self):\n",
    "        return \"< \" + str(self.label) + \": \" + str(self.features) + \" >\"\n",
    "    def __init__(self, label, features):\n",
    "        self.label = label # the classification label of this data point\n",
    "        self.features = features\n",
    "\n",
    "def get_data(filename):\n",
    "    data = []\n",
    "#     your code goes here\n",
    "    file = pd.read_csv(filename, header=None)\n",
    "    \n",
    "    return file"
   ]
  },
  {
   "cell_type": "markdown",
   "metadata": {},
   "source": [
    "## Part 1: Naive Bayes Classifier\n",
    "\n",
    "Naive Bayes (NB) classifier is a simple probabilistic classifier that is based on applying the Bayes' theorem and assumes a strong (naive) independence between features. The Diabetic Retinopathy data set contains both categorical and continuous features. Dealing with categorical features has been discussed in detail in class. Continuous attributes, on the other hand, are more interesting to handle. Most commonly, this is done by assuming normal probability distribution over the feature values or by binning the attribute values in a fixed number of bins. In this assignment you'll be implementing the binning approach. For each continuous attribute, you'll construct 3 equal sized bins. For example, feature 5 ranges from `[1 - 120]` the 3 bins that you'll construct will be `[1 - 40]`, `[41 - 80]`, `[81 - 120]`."
   ]
  },
  {
   "cell_type": "markdown",
   "metadata": {},
   "source": [
    "Q1. Implement a Naive Bayes classifier. Measure the accuracy of your classifier using 5-fold cross validation and display the confusion matrix. Also print the precision and recall for class label 1 (patients that have been diagnosed with the disease)."
   ]
  },
  {
   "cell_type": "code",
   "execution_count": 21,
   "metadata": {},
   "outputs": [
    {
     "name": "stdout",
     "output_type": "stream",
     "text": [
      "      0   1   2   3   4   5   6   7          8          9          10  \\\n",
      "0      1   1  22  22  22  19  18  14  49.895756  17.775994   5.270920   \n",
      "1      1   1  24  24  22  18  16  13  57.709936  23.799994   3.325423   \n",
      "2      1   1  62  60  59  54  47  33  55.831441  27.993933  12.687485   \n",
      "3      1   1  55  53  53  50  43  31  40.467228  18.445954   9.118901   \n",
      "4      1   1  44  44  44  41  39  27  18.026254   8.570709   0.410381   \n",
      "...   ..  ..  ..  ..  ..  ..  ..  ..        ...        ...        ...   \n",
      "1146   1   1  34  34  34  33  31  24   6.071765   0.937472   0.031145   \n",
      "1147   1   1  49  49  49  49  45  37  63.197145  27.377668   8.067688   \n",
      "1148   1   0  49  48  48  45  43  33  30.461898  13.966980   1.763305   \n",
      "1149   1   1  39  36  29  23  13   7  40.525739  12.604947   4.740919   \n",
      "1150   1   1   7   7   7   7   7   5  69.423565   7.031843   1.750548   \n",
      "\n",
      "            11        12        13        14        15        16        17  \\\n",
      "0     0.771761  0.018632  0.006864  0.003923  0.003923  0.486903  0.100025   \n",
      "1     0.234185  0.003903  0.003903  0.003903  0.003903  0.520908  0.144414   \n",
      "2     4.852282  1.393889  0.373252  0.041817  0.007744  0.530904  0.128548   \n",
      "3     3.079428  0.840261  0.272434  0.007653  0.001531  0.483284  0.114790   \n",
      "4     0.000000  0.000000  0.000000  0.000000  0.000000  0.475935  0.123572   \n",
      "...        ...       ...       ...       ...       ...       ...       ...   \n",
      "1146  0.003115  0.000000  0.000000  0.000000  0.000000  0.537470  0.116795   \n",
      "1147  0.979548  0.001552  0.000000  0.000000  0.000000  0.516733  0.124190   \n",
      "1148  0.137858  0.011221  0.000000  0.000000  0.000000  0.560632  0.129843   \n",
      "1149  1.077570  0.563518  0.326860  0.239568  0.174584  0.485972  0.106690   \n",
      "1150  0.046597  0.021180  0.008472  0.000000  0.000000  0.556192  0.088957   \n",
      "\n",
      "      18  19  \n",
      "0      1   0  \n",
      "1      0   0  \n",
      "2      0   1  \n",
      "3      0   0  \n",
      "4      0   1  \n",
      "...   ..  ..  \n",
      "1146   0   0  \n",
      "1147   0   0  \n",
      "1148   0   0  \n",
      "1149   1   1  \n",
      "1150   0   0  \n",
      "\n",
      "[1151 rows x 20 columns]\n",
      "0       49.895756\n",
      "1       57.709936\n",
      "2       55.831441\n",
      "3       40.467228\n",
      "4       18.026254\n",
      "          ...    \n",
      "1146     6.071765\n",
      "1147    63.197145\n",
      "1148    30.461898\n",
      "1149    40.525739\n",
      "1150    69.423565\n",
      "Name: 8, Length: 1151, dtype: float64\n"
     ]
    }
   ],
   "source": [
    "# your code goes here\n",
    "from collections import Counter\n",
    "\n",
    "data = get_data(\"messidor_features.txt\")\n",
    "print(data)\n",
    "print(data[8])\n",
    "\n",
    "# def naive_bayes(data, new_dp):\n",
    "#     prob_0 = 0.0\n",
    "#     prob_1 = 0.0\n",
    "    \n",
    "#     label_count = Counter(data[19])\n",
    "    \n",
    "#     for col in data[:19]:\n",
    "        "
   ]
  },
  {
   "cell_type": "markdown",
   "metadata": {},
   "source": [
    "\n",
    "## Part 2: K Nearest Neighbor (KNN) Classifier\n",
    "\n",
    "The KNN classifier consists of two stages:-\n",
    "- In the training stage, the classifier takes the training data and simply memorizes it\n",
    "- In the test stage, the classifier compares the test data with the training data and simply returns the maximum occuring label of the k nearest data points.\n",
    "\n",
    "The distance calculation method is central to the algorithm, typically Euclidean distance is used but other distance metrics like Manhattan distance can also be used. In this assignment you'll be implementing the classifier using the Euclidean distance metric. It is important to note that Euclidean distance is very sensitive to the scaling of different attributes hence, before you can build your classifier you have to normalize the values of each feature in the data set."
   ]
  },
  {
   "cell_type": "markdown",
   "metadata": {},
   "source": [
    "Q2. Normalize the dataset so that each feature value lies between `[0-1]`."
   ]
  },
  {
   "cell_type": "code",
   "execution_count": 6,
   "metadata": {
    "collapsed": true
   },
   "outputs": [],
   "source": [
    "# your code goes here\n"
   ]
  },
  {
   "cell_type": "markdown",
   "metadata": {},
   "source": [
    "Q3. Build your KNN classifier. "
   ]
  },
  {
   "cell_type": "code",
   "execution_count": 7,
   "metadata": {
    "collapsed": true
   },
   "outputs": [],
   "source": [
    "# your code goes here\n"
   ]
  },
  {
   "cell_type": "markdown",
   "metadata": {},
   "source": [
    "Q4. Find the best value of k for this data. Try k ranging from 1 to 10. For each k value, use a 5-fold cross validation to evaluate the accuracy with that k. In each fold of CV, divide your data into a training set and a validation set. Print out the best value of k and the accuracy achieved with that value. Return the best value of k. "
   ]
  },
  {
   "cell_type": "code",
   "execution_count": 2,
   "metadata": {
    "collapsed": true
   },
   "outputs": [],
   "source": [
    "# your code goes here\n"
   ]
  },
  {
   "cell_type": "markdown",
   "metadata": {},
   "source": [
    "Q5. Now measure the accuracy of your classifier using 5-fold cross validation. In each fold of this CV, divide your data into a training set and a test set. The training set should get sent through your code for Q4, resulting in a value of k to use. Using that k, calculate an accuracy on the test set. You will average the accuracy over all 5 folds to obtain the final accuracy measurement. Print the accuracy as well as the precision and recall for class label 1 (patients that have been diagnosed with the disease)."
   ]
  },
  {
   "cell_type": "code",
   "execution_count": 8,
   "metadata": {
    "collapsed": true
   },
   "outputs": [],
   "source": [
    "# your code goes here\n"
   ]
  }
 ],
 "metadata": {
  "kernelspec": {
   "display_name": "Python 3",
   "language": "python",
   "name": "python3"
  },
  "language_info": {
   "codemirror_mode": {
    "name": "ipython",
    "version": 3
   },
   "file_extension": ".py",
   "mimetype": "text/x-python",
   "name": "python",
   "nbconvert_exporter": "python",
   "pygments_lexer": "ipython3",
   "version": "3.7.6"
  }
 },
 "nbformat": 4,
 "nbformat_minor": 2
}
